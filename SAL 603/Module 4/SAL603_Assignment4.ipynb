{
 "cells": [
  {
   "cell_type": "code",
   "execution_count": 1,
   "id": "f9b570a2-fbf3-4109-98c4-4cfcdf402928",
   "metadata": {},
   "outputs": [],
   "source": [
    "from IPython.core.interactiveshell import InteractiveShell\n",
    "InteractiveShell.ast_node_interactivity = \"all\"\n",
    "import numpy as np\n",
    "import pandas as pd"
   ]
  },
  {
   "cell_type": "code",
   "execution_count": 10,
   "id": "b7b9a8d1-45ac-4101-8ab1-26a5be1e8e4d",
   "metadata": {},
   "outputs": [],
   "source": [
    "##reading in all of the roster csvs and setting index to the player name\n",
    "red_sox_roster = pd.read_csv('RedSox40man2024.csv', index_col = 'Name')\n",
    "yankees_roster = pd.read_csv('Yankees40Man2024.csv', index_col = 'Name')\n",
    "orioles_roster = pd.read_csv('Orioles40Man2024.csv', index_col = 'Name')\n",
    "rays_roster = pd.read_csv('Rays40Man2024.csv', index_col = 'Name')\n",
    "blue_jays_roster = pd.read_csv('BlueJays40Man2024.csv', index_col = 'Name')"
   ]
  },
  {
   "cell_type": "code",
   "execution_count": 11,
   "id": "b55b95b2-5c2e-4c83-a536-fb1688863ddf",
   "metadata": {},
   "outputs": [],
   "source": [
    "##combining all of the teams rosters into one csv\n",
    "al_east_roster = pd.concat([red_sox_roster, yankees_roster, orioles_roster, rays_roster, blue_jays_roster])\n",
    "##writes combined to csv, replacing na values with null and keeps index as player name\n",
    "al_east_roster.to_csv('ALEast_roster.csv', na_rep = 'NULL')"
   ]
  }
 ],
 "metadata": {
  "kernelspec": {
   "display_name": "Python 3 (ipykernel)",
   "language": "python",
   "name": "python3"
  },
  "language_info": {
   "codemirror_mode": {
    "name": "ipython",
    "version": 3
   },
   "file_extension": ".py",
   "mimetype": "text/x-python",
   "name": "python",
   "nbconvert_exporter": "python",
   "pygments_lexer": "ipython3",
   "version": "3.12.7"
  }
 },
 "nbformat": 4,
 "nbformat_minor": 5
}
