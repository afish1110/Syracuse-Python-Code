{
 "cells": [
  {
   "cell_type": "code",
   "execution_count": 2,
   "id": "a4f13fce-0cac-46fa-9165-4a87dced255a",
   "metadata": {},
   "outputs": [],
   "source": [
    "from IPython.core.interactiveshell import InteractiveShell\n",
    "InteractiveShell.ast_node_interactivity = \"all\"\n",
    "import numpy as np"
   ]
  },
  {
   "cell_type": "code",
   "execution_count": 5,
   "id": "5f402382-46e1-4cae-b3bc-29b1a9be0b44",
   "metadata": {},
   "outputs": [],
   "source": [
    "##ndarrarys for season and hr\n",
    "raf_devers_seasons = np.arange(2024, 2016, -1)\n",
    "raf_devers_hr = np.array([28, 33, 27, 38, 11, 32, 21, 10])\n",
    "\n",
    "##finding max hr and corresponding season as well as unique hr values\n",
    "raf_devers_top_hr = np.max(raf_devers_hr)\n",
    "raf_devers_top_hr_index = np.argmax(raf_devers_hr)\n",
    "raf_devers_top_hr_season = raf_devers_seasons[raf_devers_top_hr_index]\n",
    "raf_devers_unique_hr = np.unique(raf_devers_hr)"
   ]
  },
  {
   "cell_type": "code",
   "execution_count": 9,
   "id": "80f114a9-9fb8-4071-bcad-3510a96f7fe6",
   "metadata": {},
   "outputs": [
    {
     "name": "stdout",
     "output_type": "stream",
     "text": [
      "Rafael Devers' top season in terms of HR was 2021 with 38 HR\n",
      "Rafael Devers' unique HR values are [10 11 21 27 28 32 33 38]\n"
     ]
    }
   ],
   "source": [
    "##printing outcome concatenate using str\n",
    "print(\"Rafael Devers' top season in terms of HR was \" + str(raf_devers_top_hr_season) + \" with \" + str(raf_devers_top_hr) + \" HR\")\n",
    "print(\"Rafael Devers' unique HR values are \" + str(raf_devers_unique_hr))"
   ]
  }
 ],
 "metadata": {
  "kernelspec": {
   "display_name": "Python 3 (ipykernel)",
   "language": "python",
   "name": "python3"
  },
  "language_info": {
   "codemirror_mode": {
    "name": "ipython",
    "version": 3
   },
   "file_extension": ".py",
   "mimetype": "text/x-python",
   "name": "python",
   "nbconvert_exporter": "python",
   "pygments_lexer": "ipython3",
   "version": "3.12.7"
  }
 },
 "nbformat": 4,
 "nbformat_minor": 5
}
