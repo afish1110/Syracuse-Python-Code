{
 "cells": [
  {
   "cell_type": "code",
   "execution_count": 1,
   "id": "00321e6c-ea3a-49d4-a2cf-08eee12001f1",
   "metadata": {},
   "outputs": [],
   "source": [
    "from IPython.core.interactiveshell import InteractiveShell\n",
    "InteractiveShell.ast_node_interactivity = \"all\"\n",
    "import numpy as np"
   ]
  },
  {
   "cell_type": "code",
   "execution_count": 7,
   "id": "837d7109-755c-410b-9136-2cb5de229314",
   "metadata": {},
   "outputs": [],
   "source": [
    "##Looking at MLB AL MVP winners 2024 to 2000\n",
    "al_mvps = np.array([\"Aaron Judge\", \"Shohei Ohtani\", \"Aaron Judge\", \"Shohei Ohtani\", \"Jose Abreu\", \"Mike Trout\", \"Mookie Betts\",\n",
    "                    \"Jose Altuve\", \"Mike Trout\", \"Josh Donaldson\", \"Mike Trout\", \"Miguel Cabrera\", \"Justin Verlander\", \"Josh Hamilton\",\n",
    "                    \"Joe Mauer\", \"Dustin Pedroia\", \"Alex Rodriguez\", \"Justin Morneau\", \"Alex Rodriguez\", \"Vladimir Guerrero\", \"Alex Rodriguez\",\n",
    "                    \"Miguel Tejada\", \"Ichiro Suzuki\", \"Jason Giambi\"])"
   ]
  },
  {
   "cell_type": "code",
   "execution_count": 6,
   "id": "8678ebde-04fb-4230-b733-590c87415df6",
   "metadata": {},
   "outputs": [
    {
     "name": "stdout",
     "output_type": "stream",
     "text": [
      "Aaron Judge had 2 AL MVP Awards.\n",
      "Alex Rodriguez had 3 AL MVP Awards.\n",
      "Dustin Pedroia had 1 AL MVP Awards.\n",
      "Ichiro Suzuki had 1 AL MVP Awards.\n",
      "Jason Giambi had 1 AL MVP Awards.\n",
      "Joe Mauer had 1 AL MVP Awards.\n",
      "Jose Abreu had 1 AL MVP Awards.\n",
      "Jose Altuve had 1 AL MVP Awards.\n",
      "Josh Donaldson had 1 AL MVP Awards.\n",
      "Josh Hamilton had 1 AL MVP Awards.\n",
      "Justin Morneau had 1 AL MVP Awards.\n",
      "Justin Verlander had 1 AL MVP Awards.\n",
      "Miguel Cabrera had 1 AL MVP Awards.\n",
      "Miguel Tejada had 1 AL MVP Awards.\n",
      "Mike Trout had 3 AL MVP Awards.\n",
      "Mookie Betts had 1 AL MVP Awards.\n",
      "Shohei Ohtani had 2 AL MVP Awards.\n",
      "Vladimir Guerrero had 1 AL MVP Awards.\n"
     ]
    }
   ],
   "source": [
    "##ndarray of unique mvp winners\n",
    "unique_mvps = np.unique(al_mvps)\n",
    "\n",
    "##for loop to print mvp winner and number of mvps\n",
    "for mvp in unique_mvps:\n",
    "    ##counts number of times mvp listed in original list\n",
    "    num_mvps = np.count_nonzero(al_mvps == mvp)\n",
    "    print(mvp + \" had \" + str(num_mvps) + \" AL MVP Awards.\")"
   ]
  }
 ],
 "metadata": {
  "kernelspec": {
   "display_name": "Python 3 (ipykernel)",
   "language": "python",
   "name": "python3"
  },
  "language_info": {
   "codemirror_mode": {
    "name": "ipython",
    "version": 3
   },
   "file_extension": ".py",
   "mimetype": "text/x-python",
   "name": "python",
   "nbconvert_exporter": "python",
   "pygments_lexer": "ipython3",
   "version": "3.12.7"
  }
 },
 "nbformat": 4,
 "nbformat_minor": 5
}
