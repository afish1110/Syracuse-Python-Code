{
 "cells": [
  {
   "cell_type": "code",
   "execution_count": 36,
   "id": "fafdbaea-08e1-41f0-a0fb-052c5334160a",
   "metadata": {},
   "outputs": [],
   "source": [
    "from IPython.core.interactiveshell import InteractiveShell\n",
    "InteractiveShell.ast_node_interactivity = \"all\"\n",
    "import numpy as np\n",
    "import pandas as pd\n",
    "from pybaseball import lahman"
   ]
  },
  {
   "cell_type": "code",
   "execution_count": 41,
   "id": "c840a387-9433-4169-a183-bdb28b438868",
   "metadata": {},
   "outputs": [],
   "source": [
    "##reads in batting csv file\n",
    "batting = pd.read_csv('C:/Users/Andrew Fish/Documents/Baseball Data/baseballdatabank-2023.1/core/Batting.csv')\n",
    "##2010s\n",
    "years = np.arange(2010, 2020)\n",
    "##creating dataframe\n",
    "batting = pd.DataFrame({'H' : batting['H'].to_numpy(),\n",
    "                        '2B' : batting['2B'].to_numpy(),\n",
    "                        '3B' : batting['3B'].to_numpy(),\n",
    "                        'HR' : batting['HR'].to_numpy(),\n",
    "                        'AB' : batting['AB'].to_numpy(),\n",
    "                        'BB' : batting['BB'].to_numpy(),\n",
    "                        'HBP' : batting['HBP'].to_numpy(),\n",
    "                        'SF' : batting['SF'].to_numpy(),\n",
    "                        'Season' : batting['yearID'].to_numpy(),\n",
    "                        'PlayerID' : batting['playerID'].to_numpy()})\n",
    "##filters the years 2010s\n",
    "batting2010 = batting[np.in1d(batting['Season'], years)]\n",
    "batting2010.index = batting2010['PlayerID']"
   ]
  },
  {
   "cell_type": "code",
   "execution_count": 38,
   "id": "4d50cd8d-bf7f-4ef5-ae19-077adaa738a9",
   "metadata": {},
   "outputs": [
    {
     "name": "stderr",
     "output_type": "stream",
     "text": [
      "C:\\Users\\Andrew Fish\\AppData\\Local\\Temp\\ipykernel_19000\\3891781682.py:2: SettingWithCopyWarning: \n",
      "A value is trying to be set on a copy of a slice from a DataFrame.\n",
      "Try using .loc[row_indexer,col_indexer] = value instead\n",
      "\n",
      "See the caveats in the documentation: https://pandas.pydata.org/pandas-docs/stable/user_guide/indexing.html#returning-a-view-versus-a-copy\n",
      "  batting2010['1B'] = batting2010['H'] - batting2010['2B'] - batting2010['3B'] - batting2010['HR']\n",
      "C:\\Users\\Andrew Fish\\AppData\\Local\\Temp\\ipykernel_19000\\3891781682.py:3: SettingWithCopyWarning: \n",
      "A value is trying to be set on a copy of a slice from a DataFrame.\n",
      "Try using .loc[row_indexer,col_indexer] = value instead\n",
      "\n",
      "See the caveats in the documentation: https://pandas.pydata.org/pandas-docs/stable/user_guide/indexing.html#returning-a-view-versus-a-copy\n",
      "  batting2010['TB'] = batting2010['1B'] + (2 * batting2010['2B']) + (3 * batting2010['3B']) + (4 * batting2010['HR'])\n"
     ]
    }
   ],
   "source": [
    "##other stats for calculations singles and total bases\n",
    "batting2010['1B'] = batting2010['H'] - batting2010['2B'] - batting2010['3B'] - batting2010['HR']\n",
    "batting2010['TB'] = batting2010['1B'] + (2 * batting2010['2B']) + (3 * batting2010['3B']) + (4 * batting2010['HR'])"
   ]
  },
  {
   "cell_type": "code",
   "execution_count": 39,
   "id": "33e9c450-9e43-4ac7-be65-e310a7e199d9",
   "metadata": {},
   "outputs": [
    {
     "name": "stderr",
     "output_type": "stream",
     "text": [
      "C:\\Users\\Andrew Fish\\AppData\\Local\\Temp\\ipykernel_19000\\3239597351.py:2: SettingWithCopyWarning: \n",
      "A value is trying to be set on a copy of a slice from a DataFrame.\n",
      "Try using .loc[row_indexer,col_indexer] = value instead\n",
      "\n",
      "See the caveats in the documentation: https://pandas.pydata.org/pandas-docs/stable/user_guide/indexing.html#returning-a-view-versus-a-copy\n",
      "  batting2010['OBP'] = (batting2010['H'] + batting2010['BB'] + batting2010['HBP']) / (batting2010['AB'] + batting2010['BB'] + batting2010['SF'] + batting2010['HBP'])\n",
      "C:\\Users\\Andrew Fish\\AppData\\Local\\Temp\\ipykernel_19000\\3239597351.py:3: SettingWithCopyWarning: \n",
      "A value is trying to be set on a copy of a slice from a DataFrame.\n",
      "Try using .loc[row_indexer,col_indexer] = value instead\n",
      "\n",
      "See the caveats in the documentation: https://pandas.pydata.org/pandas-docs/stable/user_guide/indexing.html#returning-a-view-versus-a-copy\n",
      "  batting2010['SLG'] = batting2010['TB'] / batting2010['AB']\n",
      "C:\\Users\\Andrew Fish\\AppData\\Local\\Temp\\ipykernel_19000\\3239597351.py:4: SettingWithCopyWarning: \n",
      "A value is trying to be set on a copy of a slice from a DataFrame.\n",
      "Try using .loc[row_indexer,col_indexer] = value instead\n",
      "\n",
      "See the caveats in the documentation: https://pandas.pydata.org/pandas-docs/stable/user_guide/indexing.html#returning-a-view-versus-a-copy\n",
      "  batting2010['OPS'] = batting2010['OBP'] + batting2010['SLG']\n"
     ]
    }
   ],
   "source": [
    "##calculations for obp slg and ops\n",
    "batting2010['OBP'] = (batting2010['H'] + batting2010['BB'] + batting2010['HBP']) / (batting2010['AB'] + batting2010['BB'] + batting2010['SF'] + batting2010['HBP'])\n",
    "batting2010['SLG'] = batting2010['TB'] / batting2010['AB']\n",
    "batting2010['OPS'] = batting2010['OBP'] + batting2010['SLG']"
   ]
  },
  {
   "cell_type": "code",
   "execution_count": 40,
   "id": "c893f029-7853-4761-82cd-d299200a25c5",
   "metadata": {},
   "outputs": [
    {
     "data": {
      "text/html": [
       "<div>\n",
       "<style scoped>\n",
       "    .dataframe tbody tr th:only-of-type {\n",
       "        vertical-align: middle;\n",
       "    }\n",
       "\n",
       "    .dataframe tbody tr th {\n",
       "        vertical-align: top;\n",
       "    }\n",
       "\n",
       "    .dataframe thead th {\n",
       "        text-align: right;\n",
       "    }\n",
       "</style>\n",
       "<table border=\"1\" class=\"dataframe\">\n",
       "  <thead>\n",
       "    <tr style=\"text-align: right;\">\n",
       "      <th></th>\n",
       "      <th>OBP</th>\n",
       "      <th>SLG</th>\n",
       "      <th>OPS</th>\n",
       "    </tr>\n",
       "    <tr>\n",
       "      <th>PlayerID</th>\n",
       "      <th></th>\n",
       "      <th></th>\n",
       "      <th></th>\n",
       "    </tr>\n",
       "  </thead>\n",
       "  <tbody>\n",
       "    <tr>\n",
       "      <th>aardsda01</th>\n",
       "      <td>0.000000</td>\n",
       "      <td>0.000000</td>\n",
       "      <td>0.000000</td>\n",
       "    </tr>\n",
       "    <tr>\n",
       "      <th>abadfe01</th>\n",
       "      <td>0.000000</td>\n",
       "      <td>0.000000</td>\n",
       "      <td>0.000000</td>\n",
       "    </tr>\n",
       "    <tr>\n",
       "      <th>abreubo01</th>\n",
       "      <td>0.352324</td>\n",
       "      <td>0.434555</td>\n",
       "      <td>0.786879</td>\n",
       "    </tr>\n",
       "    <tr>\n",
       "      <th>abreuto01</th>\n",
       "      <td>0.243781</td>\n",
       "      <td>0.316062</td>\n",
       "      <td>0.559843</td>\n",
       "    </tr>\n",
       "    <tr>\n",
       "      <th>accarje01</th>\n",
       "      <td>0.000000</td>\n",
       "      <td>0.000000</td>\n",
       "      <td>0.000000</td>\n",
       "    </tr>\n",
       "    <tr>\n",
       "      <th>...</th>\n",
       "      <td>...</td>\n",
       "      <td>...</td>\n",
       "      <td>...</td>\n",
       "    </tr>\n",
       "    <tr>\n",
       "      <th>zimmejo02</th>\n",
       "      <td>0.000000</td>\n",
       "      <td>0.000000</td>\n",
       "      <td>0.000000</td>\n",
       "    </tr>\n",
       "    <tr>\n",
       "      <th>zimmeky01</th>\n",
       "      <td>0.000000</td>\n",
       "      <td>0.000000</td>\n",
       "      <td>0.000000</td>\n",
       "    </tr>\n",
       "    <tr>\n",
       "      <th>zimmery01</th>\n",
       "      <td>0.321053</td>\n",
       "      <td>0.415205</td>\n",
       "      <td>0.736257</td>\n",
       "    </tr>\n",
       "    <tr>\n",
       "      <th>zobribe01</th>\n",
       "      <td>0.357955</td>\n",
       "      <td>0.313333</td>\n",
       "      <td>0.671288</td>\n",
       "    </tr>\n",
       "    <tr>\n",
       "      <th>zuninmi01</th>\n",
       "      <td>0.231834</td>\n",
       "      <td>0.312030</td>\n",
       "      <td>0.543864</td>\n",
       "    </tr>\n",
       "  </tbody>\n",
       "</table>\n",
       "<p>14564 rows × 3 columns</p>\n",
       "</div>"
      ],
      "text/plain": [
       "                OBP       SLG       OPS\n",
       "PlayerID                               \n",
       "aardsda01  0.000000  0.000000  0.000000\n",
       "abadfe01   0.000000  0.000000  0.000000\n",
       "abreubo01  0.352324  0.434555  0.786879\n",
       "abreuto01  0.243781  0.316062  0.559843\n",
       "accarje01  0.000000  0.000000  0.000000\n",
       "...             ...       ...       ...\n",
       "zimmejo02  0.000000  0.000000  0.000000\n",
       "zimmeky01  0.000000  0.000000  0.000000\n",
       "zimmery01  0.321053  0.415205  0.736257\n",
       "zobribe01  0.357955  0.313333  0.671288\n",
       "zuninmi01  0.231834  0.312030  0.543864\n",
       "\n",
       "[14564 rows x 3 columns]"
      ]
     },
     "execution_count": 40,
     "metadata": {},
     "output_type": "execute_result"
    }
   ],
   "source": [
    "##new data frame with the 3 wanted stats\n",
    "batter_stats = pd.DataFrame({'OBP' : batting2010['OBP'],\n",
    "                             'SLG' : batting2010['SLG'],\n",
    "                             'OPS' : batting2010['OPS']})\n",
    "##replacing na values with 0\n",
    "batter_stats.fillna(0)"
   ]
  }
 ],
 "metadata": {
  "kernelspec": {
   "display_name": "Python 3 (ipykernel)",
   "language": "python",
   "name": "python3"
  },
  "language_info": {
   "codemirror_mode": {
    "name": "ipython",
    "version": 3
   },
   "file_extension": ".py",
   "mimetype": "text/x-python",
   "name": "python",
   "nbconvert_exporter": "python",
   "pygments_lexer": "ipython3",
   "version": "3.12.7"
  }
 },
 "nbformat": 4,
 "nbformat_minor": 5
}
