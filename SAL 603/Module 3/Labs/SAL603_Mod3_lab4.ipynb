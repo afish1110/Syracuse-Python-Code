{
 "cells": [
  {
   "cell_type": "code",
   "execution_count": 3,
   "id": "b7c773c4-c938-4c80-b7dd-089f640d3890",
   "metadata": {},
   "outputs": [],
   "source": [
    "from IPython.core.interactiveshell import InteractiveShell\n",
    "InteractiveShell.ast_node_interactivity = \"all\"\n",
    "import numpy as np\n",
    "import pandas as pd\n",
    "from pybaseball import lahman"
   ]
  },
  {
   "cell_type": "code",
   "execution_count": 6,
   "id": "aae5e655-2441-4928-b44f-acf1af1fb727",
   "metadata": {},
   "outputs": [
    {
     "data": {
      "text/plain": [
       "playerID\n",
       "aardsda01    0.000\n",
       "abadfe01     0.000\n",
       "abreubo01    0.435\n",
       "abreuto01    0.316\n",
       "accarje01    0.000\n",
       "             ...  \n",
       "zimmejo02    0.000\n",
       "zimmeky01    0.000\n",
       "zimmery01    0.415\n",
       "zobribe01    0.313\n",
       "zuninmi01    0.312\n",
       "Length: 14564, dtype: float64"
      ]
     },
     "execution_count": 6,
     "metadata": {},
     "output_type": "execute_result"
    }
   ],
   "source": [
    "batting = pd.read_csv('C:/Users/Andrew Fish/Documents/Baseball Data/baseballdatabank-2023.1/core/Batting.csv')\n",
    "season = batting['yearID']\n",
    "##only selects years in the 2010s\n",
    "batters_2010s = batting[np.in1d(season, [2010, 2011, 2012, 2013, 2014, 2015, 2016, 2017, 2018, 2019])]\n",
    "#assigned to clean up slg percentage calculation (less typing)\n",
    "h = batters_2010s['H']\n",
    "b2 = batters_2010s['2B']\n",
    "b3 = batters_2010s['3B']\n",
    "hr = batters_2010s['HR']\n",
    "ab = batters_2010s['AB']\n",
    "b1 = h - b2 - b3 - hr\n",
    "##for index to be used later\n",
    "player_id = batters_2010s['playerID']\n",
    "##numerator of slg percentage\n",
    "tb = b1 + (2 * b2) + (3 * b3) + (4 * hr)\n",
    "##rounding slg to 3 decimals just like in stat\n",
    "slg = round(tb / ab, 3)\n",
    "##creating the series using slg\n",
    "slg2010s = pd.Series(slg)\n",
    "##making the index the player id\n",
    "slg2010s.index = player_id\n",
    "slg2010s.fillna(0)"
   ]
  }
 ],
 "metadata": {
  "kernelspec": {
   "display_name": "Python 3 (ipykernel)",
   "language": "python",
   "name": "python3"
  },
  "language_info": {
   "codemirror_mode": {
    "name": "ipython",
    "version": 3
   },
   "file_extension": ".py",
   "mimetype": "text/x-python",
   "name": "python",
   "nbconvert_exporter": "python",
   "pygments_lexer": "ipython3",
   "version": "3.12.7"
  }
 },
 "nbformat": 4,
 "nbformat_minor": 5
}
