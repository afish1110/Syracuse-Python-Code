{
 "cells": [
  {
   "cell_type": "code",
   "execution_count": 8,
   "id": "a82fbf07-cf74-44c9-b970-7bf8accb4545",
   "metadata": {},
   "outputs": [],
   "source": [
    "from IPython.core.interactiveshell import InteractiveShell\n",
    "InteractiveShell.ast_node_interactivity = \"all\"\n",
    "import numpy as np"
   ]
  },
  {
   "cell_type": "code",
   "execution_count": 3,
   "id": "4d3ae684-f3df-4708-ba53-7dd0fc050303",
   "metadata": {},
   "outputs": [],
   "source": [
    "vikings_w = np.array([14, 7, 13, 8, 7])\n",
    "vikings_l = np.array([3, 10, 4, 9, 9])\n",
    "vikings_t = np.array([0, 0, 0, 0, 0])\n",
    "##ndarray of the games\n",
    "vikings_games = vikings_w + vikings_l + vikings_t"
   ]
  },
  {
   "cell_type": "code",
   "execution_count": 5,
   "id": "a9e09b24-8fe4-4fcd-a361-562d5ddef23c",
   "metadata": {},
   "outputs": [
    {
     "name": "stdout",
     "output_type": "stream",
     "text": [
      "[0.82352941 0.41176471 0.76470588 0.47058824 0.4375    ]\n"
     ]
    }
   ],
   "source": [
    "##vikings win percentage using ndarray arithmetic\n",
    "vikings_wp = (vikings_w + (0.5 * vikings_t)) / vikings_games\n",
    "print(vikings_wp)"
   ]
  },
  {
   "cell_type": "code",
   "execution_count": 7,
   "id": "f710b933-1238-4ea8-98cf-27f3c1f0ee04",
   "metadata": {},
   "outputs": [
    {
     "name": "stdout",
     "output_type": "stream",
     "text": [
      "[0.82352941 0.41176471 0.76470588 0.47058824 0.4375    ]\n"
     ]
    }
   ],
   "source": [
    "##vikings win percentage using np.function\n",
    "##using multiple np.function this is done in one line mimicing the ndarray arithmetic version above\n",
    "new_vikings_wp = np.divide(np.add(vikings_w, 0.5 * vikings_t), vikings_games)\n",
    "print(new_vikings_wp)"
   ]
  }
 ],
 "metadata": {
  "kernelspec": {
   "display_name": "Python 3 (ipykernel)",
   "language": "python",
   "name": "python3"
  },
  "language_info": {
   "codemirror_mode": {
    "name": "ipython",
    "version": 3
   },
   "file_extension": ".py",
   "mimetype": "text/x-python",
   "name": "python",
   "nbconvert_exporter": "python",
   "pygments_lexer": "ipython3",
   "version": "3.12.7"
  }
 },
 "nbformat": 4,
 "nbformat_minor": 5
}
