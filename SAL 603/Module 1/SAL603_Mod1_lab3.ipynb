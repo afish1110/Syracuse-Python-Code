{
 "cells": [
  {
   "cell_type": "code",
   "execution_count": 1,
   "id": "82d407c9-cf52-45ae-a165-1e6fd8c0df1c",
   "metadata": {},
   "outputs": [],
   "source": [
    "from IPython.core.interactiveshell import InteractiveShell\n",
    "InteractiveShell.ast_node_interactivity = \"all\""
   ]
  },
  {
   "cell_type": "code",
   "execution_count": 4,
   "id": "fab80767-22d3-4670-8c03-e52ac3402603",
   "metadata": {},
   "outputs": [],
   "source": [
    "# %load warren_spahn.py\n",
    "warren_spahn_w = [0,8,21,15,21,21,22,14,23,21]\n",
    "warren_spahn_l = [0,5,10,12,14,17,14,19,7,12]"
   ]
  },
  {
   "cell_type": "code",
   "execution_count": 5,
   "id": "6f56cd2e-ac8c-4d7e-b870-89e32503d798",
   "metadata": {},
   "outputs": [],
   "source": [
    "##wins and losses from 55-65 for warren spahn\n",
    "spahn_w_5565 = [17, 20, 21, 22, 21, 21, 21, 18, 23, 6, 7]\n",
    "spahn_l_5565 = [14, 11, 11, 11, 15, 10, 13, 14, 7, 13, 16]"
   ]
  },
  {
   "cell_type": "code",
   "execution_count": 6,
   "id": "c24624e3-0dbc-4221-a40b-0a54a820b519",
   "metadata": {},
   "outputs": [],
   "source": [
    "##loop to addd wins and loses to respective variable\n",
    "for i in range(len(spahn_w_5565)):\n",
    "    warren_spahn_w.append(spahn_w_5565[i])\n",
    "    warren_spahn_l.append(spahn_l_5565[i])"
   ]
  },
  {
   "cell_type": "code",
   "execution_count": 7,
   "id": "ebc4bd33-8be5-4d67-b03c-f20a701ddd99",
   "metadata": {},
   "outputs": [
    {
     "name": "stdout",
     "output_type": "stream",
     "text": [
      "W: [0, 8, 21, 15, 21, 21, 22, 14, 23, 21, 17, 20, 21, 22, 21, 21, 21, 18, 23, 6, 7] L: [0, 5, 10, 12, 14, 17, 14, 19, 7, 12, 14, 11, 11, 11, 15, 10, 13, 14, 7, 13, 16]\n"
     ]
    }
   ],
   "source": [
    "print(\"W:\", warren_spahn_w, \"L:\", warren_spahn_l)"
   ]
  }
 ],
 "metadata": {
  "kernelspec": {
   "display_name": "Python 3 (ipykernel)",
   "language": "python",
   "name": "python3"
  },
  "language_info": {
   "codemirror_mode": {
    "name": "ipython",
    "version": 3
   },
   "file_extension": ".py",
   "mimetype": "text/x-python",
   "name": "python",
   "nbconvert_exporter": "python",
   "pygments_lexer": "ipython3",
   "version": "3.12.7"
  }
 },
 "nbformat": 4,
 "nbformat_minor": 5
}
