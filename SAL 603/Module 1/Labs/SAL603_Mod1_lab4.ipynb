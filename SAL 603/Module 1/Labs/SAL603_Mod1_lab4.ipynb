{
 "cells": [
  {
   "cell_type": "code",
   "execution_count": 6,
   "id": "c2e308ce-3794-43eb-8906-8a9b62444d5a",
   "metadata": {},
   "outputs": [],
   "source": [
    "##list of AL East Teams\n",
    "al_east = [\"Boston Red Sox\", \"New York Yankees\", \"Baltimore Orioles\", \"Tampa Bay Rays\", \"Toronto Blue Jays\"]\n",
    "##empty list will use to store the pairs of AL East teams\n",
    "pairs_list = []"
   ]
  },
  {
   "cell_type": "code",
   "execution_count": 7,
   "id": "0e9b676e-aba0-44ba-99e9-6221163048c6",
   "metadata": {},
   "outputs": [],
   "source": [
    "for i in range(len(al_east)):\n",
    "    for j in range(len(al_east)):\n",
    "        ##checks for pairs of the same team ie [Red Sox, Red Sox]\n",
    "        if al_east[i] != al_east[j]:\n",
    "            ##checks for duplicates in list can't have [Red Sox, Yankees] and [Yankees, Red Sox]\n",
    "            if (([al_east[i], al_east[j]] not in pairs_list) &\n",
    "                ([al_east[j], al_east[i]] not in pairs_list)):\n",
    "                pairs_list.append([al_east[i], al_east[j]])"
   ]
  },
  {
   "cell_type": "code",
   "execution_count": 8,
   "id": "12446a7d-4b0a-4ce2-88ae-e6127345b8d2",
   "metadata": {},
   "outputs": [
    {
     "data": {
      "text/plain": [
       "[['Boston Red Sox', 'New York Yankees'],\n",
       " ['Boston Red Sox', 'Baltimore Orioles'],\n",
       " ['Boston Red Sox', 'Tampa Bay Rays'],\n",
       " ['Boston Red Sox', 'Toronto Blue Jays'],\n",
       " ['New York Yankees', 'Baltimore Orioles'],\n",
       " ['New York Yankees', 'Tampa Bay Rays'],\n",
       " ['New York Yankees', 'Toronto Blue Jays'],\n",
       " ['Baltimore Orioles', 'Tampa Bay Rays'],\n",
       " ['Baltimore Orioles', 'Toronto Blue Jays'],\n",
       " ['Tampa Bay Rays', 'Toronto Blue Jays']]"
      ]
     },
     "execution_count": 8,
     "metadata": {},
     "output_type": "execute_result"
    }
   ],
   "source": [
    "##outputs pairs_list to check if correct\n",
    "pairs_list"
   ]
  }
 ],
 "metadata": {
  "kernelspec": {
   "display_name": "Python 3 (ipykernel)",
   "language": "python",
   "name": "python3"
  },
  "language_info": {
   "codemirror_mode": {
    "name": "ipython",
    "version": 3
   },
   "file_extension": ".py",
   "mimetype": "text/x-python",
   "name": "python",
   "nbconvert_exporter": "python",
   "pygments_lexer": "ipython3",
   "version": "3.12.7"
  }
 },
 "nbformat": 4,
 "nbformat_minor": 5
}
