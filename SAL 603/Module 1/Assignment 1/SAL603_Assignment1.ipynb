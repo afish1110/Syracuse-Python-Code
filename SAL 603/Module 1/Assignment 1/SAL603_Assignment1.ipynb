{
 "cells": [
  {
   "cell_type": "code",
   "execution_count": 2,
   "id": "5709c5e5-81cf-4d7d-8920-8545ff331d57",
   "metadata": {},
   "outputs": [],
   "source": [
    "from IPython.core.interactiveshell import InteractiveShell\n",
    "InteractiveShell.ast_node_interactivity = \"all\""
   ]
  },
  {
   "cell_type": "code",
   "execution_count": 5,
   "id": "6f831c32-97ed-43ec-bc4a-f057e5a4f10d",
   "metadata": {},
   "outputs": [],
   "source": [
    "##variable assignent\n",
    "##the five list of the AL East from 2024\n",
    "teams = [\"Boston Red Sox\", \"New York Yankees\", \"Baltimore Orioles\", \"Tampa Bay Rays\", \"Toronto Blue Jays\"]\n",
    "runs_for = [751, 815, 786, 604, 671]\n",
    "runs_against = [747, 668, 699, 663, 743]\n",
    "wins = [81, 94, 91, 80, 74]\n",
    "losses = [81, 68, 71, 82, 88]"
   ]
  },
  {
   "cell_type": "code",
   "execution_count": 4,
   "id": "b782ef12-b14a-40dc-9e8a-46e767ab0cd5",
   "metadata": {},
   "outputs": [],
   "source": [
    "##function creation\n",
    "##gets win percentage function from the zip folder\n",
    "from win_percentage import calc_win_percentage as cwp\n",
    "##creating function for expected win percentage from the formula in assignment details rf is runs scored and ra is runs allowed\n",
    "def expected_wp(rf, ra):\n",
    "    ##using format of numerator denominator as it is easier to read when put together\n",
    "    numerator = pow(rf, 1.83)\n",
    "    denominator = (pow(rf, 1.83) + pow(ra, 1.83))\n",
    "    wp = numerator / denominator\n",
    "    return wp"
   ]
  },
  {
   "cell_type": "code",
   "execution_count": 6,
   "id": "4e08d1bb-07b9-4c8e-963e-333d6bcc3fac",
   "metadata": {},
   "outputs": [
    {
     "name": "stdout",
     "output_type": "stream",
     "text": [
      "Boston Red Sox under-performed with Win Expectation: 0.5024432440371462 and Win Percentage 0.5\n",
      "New York Yankees under-performed with Win Expectation: 0.5900052038533466 and Win Percentage 0.5802469135802469\n",
      "Baltimore Orioles over-performed with Win Expectation: 0.5534623655631823 and Win Percentage 0.5617283950617284\n",
      "Tampa Bay Rays over-performed with Win Expectation: 0.4574637021080565 and Win Percentage 0.49382716049382713\n",
      "Toronto Blue Jays over-performed with Win Expectation: 0.45350317155334036 and Win Percentage 0.4567901234567901\n"
     ]
    }
   ],
   "source": [
    "##loops a list doesn't matter since all have same length and that is what is being used\n",
    "for i in range(len(teams)):\n",
    "    ##calculates actual and expected win perecentages\n",
    "    act_wp = cwp(wins[i], losses[i])\n",
    "    exp_wp = expected_wp(runs_for[i], runs_against[i])\n",
    "    ##use if statements to compare win percentages and write coordinating print statements for over and under performing\n",
    "    if act_wp > exp_wp:\n",
    "        ##must concatenate strings and use str since wp are floating types\n",
    "        print(teams[i] + \" over-performed with Win Expectation: \" + str(exp_wp) + \" and Win Percentage \" + str(act_wp))\n",
    "    else:\n",
    "        print(teams[i] + \" under-performed with Win Expectation: \" + str(exp_wp) + \" and Win Percentage \" + str(act_wp))"
   ]
  }
 ],
 "metadata": {
  "kernelspec": {
   "display_name": "Python 3 (ipykernel)",
   "language": "python",
   "name": "python3"
  },
  "language_info": {
   "codemirror_mode": {
    "name": "ipython",
    "version": 3
   },
   "file_extension": ".py",
   "mimetype": "text/x-python",
   "name": "python",
   "nbconvert_exporter": "python",
   "pygments_lexer": "ipython3",
   "version": "3.12.7"
  }
 },
 "nbformat": 4,
 "nbformat_minor": 5
}
