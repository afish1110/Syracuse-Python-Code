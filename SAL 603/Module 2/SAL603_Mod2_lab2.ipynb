{
 "cells": [
  {
   "cell_type": "code",
   "execution_count": 1,
   "id": "1f23e996-8a7a-4b93-a8fc-2dc82ed5d961",
   "metadata": {},
   "outputs": [],
   "source": [
    "from IPython.core.interactiveshell import InteractiveShell\n",
    "InteractiveShell.ast_node_interactivity = \"all\""
   ]
  },
  {
   "cell_type": "code",
   "execution_count": 20,
   "id": "41927377-a83a-4bba-984e-6567c2487443",
   "metadata": {},
   "outputs": [],
   "source": [
    "##Looking at David Ortiz and OBP over his career\n",
    "ortiz_seasons = [1997, 1998, 1999, 2000, 2001, 2002, 2003, 2004, 2005, 2006, 2007, 2008, 2009, 2010, 2011, 2012, 2013, 2014, 2015, 2016]\n",
    "ortiz_obp = [.353, .371, .200, .364, .324, .339, .369, .380, .397, .413, .445, .369, .332, .370, .398, .415, .395, .355, .360, .401]"
   ]
  },
  {
   "cell_type": "code",
   "execution_count": 21,
   "id": "d56376d5-1a94-4b9e-82d4-cc1c11772d3e",
   "metadata": {
    "scrolled": true
   },
   "outputs": [
    {
     "data": {
      "text/plain": [
       "[0.445,\n",
       " 0.415,\n",
       " 0.413,\n",
       " 0.401,\n",
       " 0.398,\n",
       " 0.397,\n",
       " 0.395,\n",
       " 0.38,\n",
       " 0.371,\n",
       " 0.37,\n",
       " 0.369,\n",
       " 0.369,\n",
       " 0.364,\n",
       " 0.36,\n",
       " 0.355,\n",
       " 0.353,\n",
       " 0.339,\n",
       " 0.332,\n",
       " 0.324,\n",
       " 0.2]"
      ]
     },
     "execution_count": 21,
     "metadata": {},
     "output_type": "execute_result"
    }
   ],
   "source": [
    "##sorting obp using the sorted reversed method so can make a copy\n",
    "obp_reversed = list(reversed(sorted(ortiz_obp)))\n",
    "obp_reversed"
   ]
  },
  {
   "cell_type": "code",
   "execution_count": 22,
   "id": "07348b6d-ad49-41b8-9f26-083a2ef630c1",
   "metadata": {},
   "outputs": [
    {
     "data": {
      "text/plain": [
       "2007"
      ]
     },
     "execution_count": 22,
     "metadata": {},
     "output_type": "execute_result"
    }
   ],
   "source": [
    "##loop to find season correlated to top obp\n",
    "for i in range(len(ortiz_seasons)):\n",
    "    ##max function to find highest obp\n",
    "    top_obp = max(obp_reversed)\n",
    "    ##checks for same value\n",
    "    if top_obp == ortiz_obp[i]:\n",
    "        ##variable to store top season\n",
    "        top_season = ortiz_seasons[i]\n",
    "top_season"
   ]
  },
  {
   "cell_type": "code",
   "execution_count": 23,
   "id": "eabffa1d-9a85-43fb-b5fc-36d33392cb17",
   "metadata": {},
   "outputs": [
    {
     "data": {
      "text/plain": [
       "[2007,\n",
       " 2012,\n",
       " 2006,\n",
       " 2016,\n",
       " 2011,\n",
       " 2005,\n",
       " 2013,\n",
       " 2004,\n",
       " 1998,\n",
       " 2010,\n",
       " 2003,\n",
       " 2008,\n",
       " 2000,\n",
       " 2015,\n",
       " 2014,\n",
       " 1997,\n",
       " 2002,\n",
       " 2009,\n",
       " 2001,\n",
       " 1999]"
      ]
     },
     "execution_count": 23,
     "metadata": {},
     "output_type": "execute_result"
    }
   ],
   "source": [
    "##creating a list that will have the seasons in order by obp\n",
    "##empty list to add to in correct order\n",
    "sorted_seasons = []\n",
    "##loops through both obp lists\n",
    "for i in range(len(obp_reversed)):\n",
    "    for j in range(len(ortiz_obp)):\n",
    "        ##checks if obp is same and if the year isn't in the list already\n",
    "        if ((obp_reversed[i] == ortiz_obp[j]) &\n",
    "            (ortiz_seasons[j] not in sorted_seasons)):\n",
    "            sorted_seasons.append(ortiz_seasons[j])\n",
    "sorted_seasons\n",
    "##if multiple seasons have the same obp then it goes in the order of which is first in the original list. In our case it will be what year came first."
   ]
  }
 ],
 "metadata": {
  "kernelspec": {
   "display_name": "Python 3 (ipykernel)",
   "language": "python",
   "name": "python3"
  },
  "language_info": {
   "codemirror_mode": {
    "name": "ipython",
    "version": 3
   },
   "file_extension": ".py",
   "mimetype": "text/x-python",
   "name": "python",
   "nbconvert_exporter": "python",
   "pygments_lexer": "ipython3",
   "version": "3.12.7"
  }
 },
 "nbformat": 4,
 "nbformat_minor": 5
}
