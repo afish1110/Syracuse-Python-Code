{
 "cells": [
  {
   "cell_type": "code",
   "execution_count": 1,
   "id": "4fca4768-3c45-4117-9d9c-b9f14ef8e5e1",
   "metadata": {},
   "outputs": [],
   "source": [
    "from IPython.core.interactiveshell import InteractiveShell\n",
    "InteractiveShell.ast_node_interactivity = \"all\""
   ]
  },
  {
   "cell_type": "code",
   "execution_count": 3,
   "id": "a06b4a9d-744e-452b-b644-28c9c0d24860",
   "metadata": {},
   "outputs": [],
   "source": [
    "##years, wins, and losses for the red sox over the past 20 years\n",
    "red_sox_seasons = [2024, 2023, 2022, 2021, 2020, 2019, 2018, 2017, 2016, 2015, 2014, 2013, 2012, 2011, 2010, 2009, 2008, 2007, 2006, 2005]\n",
    "red_sox_wins = [81, 78, 78, 92, 24, 84, 108, 93, 93, 78, 71, 97, 69, 90, 89, 95, 95, 96, 86, 95]\n",
    "red_sox_loss = [81, 84, 84, 70, 36, 78, 54, 69, 69, 84, 91, 65, 93, 72, 73, 67, 67, 66, 76, 67]"
   ]
  },
  {
   "cell_type": "code",
   "execution_count": 9,
   "id": "b2e1f4e7-9f75-40fc-b627-3b291188387e",
   "metadata": {},
   "outputs": [],
   "source": [
    "##purpose is to calculate win percentage and gives ties half of a win. Defaults ties to 0 since not all leagues have ties\n",
    "def win_percent(wins, loss, ties=0):\n",
    "    wp = (wins + (0.5 * ties)) / (wins + loss + ties)\n",
    "    return wp"
   ]
  },
  {
   "cell_type": "code",
   "execution_count": 13,
   "id": "a242595b-3a51-471e-865a-d5b5c0c10e30",
   "metadata": {},
   "outputs": [],
   "source": [
    "##purpose of this function is to return the top win percentage and season\n",
    "##If two seasons have same win percentage it will give the more recent of the two.\n",
    "def top_win_percent(seasons, wins, loss, ties=None):\n",
    "    ##holder variables to compare later\n",
    "    max_wp = 0\n",
    "    max_season = 0\n",
    "    ##goes through list and calculates win percentage\n",
    "    for i in range(len(wins)):\n",
    "        wp = win_percent(wins[i], loss[i])\n",
    "        ##checks for higher win percentage if so assigns percentage and season to max values\n",
    "        if wp > max_wp:\n",
    "            max_wp = wp\n",
    "            max_season = seasons[i]\n",
    "        ##if two have the same value looks at season and takes the more recent or higher year\n",
    "        elif ((wp == max_wp) & (seasons[i] > max_season)):\n",
    "            max_season = season[i]\n",
    "    ##returns as a print statement giving the information that is wanted\n",
    "    return(\"The top Boston Red Sox regular season win percentage was \" + str(max_wp) + \"% in \" + str(max_season) + \".\")"
   ]
  },
  {
   "cell_type": "code",
   "execution_count": 14,
   "id": "ef5fe6d6-c130-4690-aa21-edca59ffa9b7",
   "metadata": {},
   "outputs": [
    {
     "data": {
      "text/plain": [
       "'The top Boston Red Sox regular season win percentage was 0.6666666666666666% in 2018.'"
      ]
     },
     "execution_count": 14,
     "metadata": {},
     "output_type": "execute_result"
    }
   ],
   "source": [
    "top_win_percent(red_sox_seasons, red_sox_wins, red_sox_loss)"
   ]
  }
 ],
 "metadata": {
  "kernelspec": {
   "display_name": "Python 3 (ipykernel)",
   "language": "python",
   "name": "python3"
  },
  "language_info": {
   "codemirror_mode": {
    "name": "ipython",
    "version": 3
   },
   "file_extension": ".py",
   "mimetype": "text/x-python",
   "name": "python",
   "nbconvert_exporter": "python",
   "pygments_lexer": "ipython3",
   "version": "3.12.7"
  }
 },
 "nbformat": 4,
 "nbformat_minor": 5
}
