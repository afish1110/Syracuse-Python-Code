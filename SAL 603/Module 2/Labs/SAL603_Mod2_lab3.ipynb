{
 "cells": [
  {
   "cell_type": "code",
   "execution_count": 1,
   "id": "39c1ff3a-e7aa-4ebc-b7ff-b5de4938a8b8",
   "metadata": {},
   "outputs": [],
   "source": [
    "from IPython.core.interactiveshell import InteractiveShell\n",
    "InteractiveShell.ast_node_interactivity = \"all\""
   ]
  },
  {
   "cell_type": "code",
   "execution_count": 2,
   "id": "0e46d0c4-b3c2-4aff-b793-fa3d821e5901",
   "metadata": {},
   "outputs": [],
   "source": [
    "ortiz_seasons = [1997, 1998, 1999, 2000, 2001, 2002, 2003, 2004, 2005, 2006, 2007, 2008, 2009, 2010, 2011, 2012, 2013, 2014, 2015, 2016]\n",
    "ortiz_obp = [.353, .371, .200, .364, .324, .339, .369, .380, .397, .413, .445, .369, .332, .370, .398, .415, .395, .355, .360, .401]"
   ]
  },
  {
   "cell_type": "code",
   "execution_count": 11,
   "id": "921cb0f7-27e4-4846-95ba-e1d10627d20e",
   "metadata": {},
   "outputs": [],
   "source": [
    "def top_stat_season(seasons, obp):\n",
    "    ##sorting the obp\n",
    "    sorted_obp = list(reversed(sorted(obp)))\n",
    "    print(sorted_obp)\n",
    "    ##since sorted can hardcode it to 0 since we know thats the highest one otherwise the max function works\n",
    "    top_obp = sorted_obp[0]\n",
    "    ##this part runs through the obp list and cheks which one is the max then returns the season and the ith position\n",
    "    for i in range(len(obp)):\n",
    "        if obp[i] == top_obp:\n",
    "            return seasons[i], obp[i]"
   ]
  },
  {
   "cell_type": "code",
   "execution_count": 12,
   "id": "15bf3362-b984-49f0-a3e2-ac9a156409c5",
   "metadata": {},
   "outputs": [
    {
     "name": "stdout",
     "output_type": "stream",
     "text": [
      "[0.445, 0.415, 0.413, 0.401, 0.398, 0.397, 0.395, 0.38, 0.371, 0.37, 0.369, 0.369, 0.364, 0.36, 0.355, 0.353, 0.339, 0.332, 0.324, 0.2]\n"
     ]
    },
    {
     "data": {
      "text/plain": [
       "(2007, 0.445)"
      ]
     },
     "execution_count": 12,
     "metadata": {},
     "output_type": "execute_result"
    }
   ],
   "source": [
    "top_stat_season(ortiz_seasons, ortiz_obp)"
   ]
  }
 ],
 "metadata": {
  "kernelspec": {
   "display_name": "Python 3 (ipykernel)",
   "language": "python",
   "name": "python3"
  },
  "language_info": {
   "codemirror_mode": {
    "name": "ipython",
    "version": 3
   },
   "file_extension": ".py",
   "mimetype": "text/x-python",
   "name": "python",
   "nbconvert_exporter": "python",
   "pygments_lexer": "ipython3",
   "version": "3.12.7"
  }
 },
 "nbformat": 4,
 "nbformat_minor": 5
}
