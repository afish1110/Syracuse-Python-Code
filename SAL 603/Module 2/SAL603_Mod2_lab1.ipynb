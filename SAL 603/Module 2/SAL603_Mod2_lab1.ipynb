{
 "cells": [
  {
   "cell_type": "code",
   "execution_count": 4,
   "id": "73f543a4-67bb-4167-8bdf-0fe9f6b7982d",
   "metadata": {},
   "outputs": [],
   "source": [
    "from IPython.core.interactiveshell import InteractiveShell\n",
    "InteractiveShell.ast_node_interactivity = \"all\""
   ]
  },
  {
   "cell_type": "code",
   "execution_count": 5,
   "id": "2a5cff63-546a-4e3d-8c0a-e6588e9bfec7",
   "metadata": {},
   "outputs": [],
   "source": [
    "red_sox_s_w_l = (2015, 78, 84), (2016, 93, 69), (2017, 93, 69), (2018, 108, 54), (2019, 84, 78), (2020, 24, 36), (2021, 92, 70), (2022, 78, 84), (2023, 78, 84,), (2024, 81, 81)"
   ]
  },
  {
   "cell_type": "code",
   "execution_count": 6,
   "id": "ea29f31c-3160-42f3-8553-c9e8f65ae689",
   "metadata": {},
   "outputs": [
    {
     "name": "stdout",
     "output_type": "stream",
     "text": [
      "Boston Red Sox 2015 Win/Loss Percentage: 0.48148148148148145%\n",
      "Boston Red Sox 2016 Win/Loss Percentage: 0.5740740740740741%\n",
      "Boston Red Sox 2017 Win/Loss Percentage: 0.5740740740740741%\n",
      "Boston Red Sox 2018 Win/Loss Percentage: 0.6666666666666666%\n",
      "Boston Red Sox 2019 Win/Loss Percentage: 0.5185185185185185%\n",
      "Boston Red Sox 2020 Win/Loss Percentage: 0.4%\n",
      "Boston Red Sox 2021 Win/Loss Percentage: 0.5679012345679012%\n",
      "Boston Red Sox 2022 Win/Loss Percentage: 0.48148148148148145%\n",
      "Boston Red Sox 2023 Win/Loss Percentage: 0.48148148148148145%\n",
      "Boston Red Sox 2024 Win/Loss Percentage: 0.5%\n"
     ]
    }
   ],
   "source": [
    "for s,w,l in red_sox_s_w_l:\n",
    "    ##calculating win percentage\n",
    "    win_per = w / (w + l)\n",
    "    ##concatenate print statement\n",
    "    print(\"Boston Red Sox \" + str(s) + \" Win/Loss Percentage: \" + str(win_per) + \"%\")"
   ]
  }
 ],
 "metadata": {
  "kernelspec": {
   "display_name": "Python 3 (ipykernel)",
   "language": "python",
   "name": "python3"
  },
  "language_info": {
   "codemirror_mode": {
    "name": "ipython",
    "version": 3
   },
   "file_extension": ".py",
   "mimetype": "text/x-python",
   "name": "python",
   "nbconvert_exporter": "python",
   "pygments_lexer": "ipython3",
   "version": "3.12.7"
  }
 },
 "nbformat": 4,
 "nbformat_minor": 5
}
